{
 "cells": [
  {
   "cell_type": "code",
   "execution_count": 2,
   "metadata": {},
   "outputs": [
    {
     "name": "stdout",
     "output_type": "stream",
     "text": [
      "Requirement already satisfied: pyro-ppl in c:\\users\\79280\\anaconda3\\lib\\site-packages (1.3.1)\n",
      "Requirement already satisfied: opt-einsum>=2.3.2 in c:\\users\\79280\\anaconda3\\lib\\site-packages (from pyro-ppl) (3.2.0)\n",
      "Requirement already satisfied: tqdm>=4.36 in c:\\users\\79280\\anaconda3\\lib\\site-packages (from pyro-ppl) (4.42.1)\n",
      "Requirement already satisfied: numpy>=1.7 in c:\\users\\79280\\anaconda3\\lib\\site-packages (from pyro-ppl) (1.15.4)\n",
      "Requirement already satisfied: torch>=1.4.0 in c:\\users\\79280\\anaconda3\\lib\\site-packages (from pyro-ppl) (1.5.0)\n",
      "Requirement already satisfied: pyro-api>=0.1.1 in c:\\users\\79280\\anaconda3\\lib\\site-packages (from pyro-ppl) (0.1.1)\n",
      "Requirement already satisfied: future in c:\\users\\79280\\anaconda3\\lib\\site-packages (from torch>=1.4.0->pyro-ppl) (0.18.2)\n"
     ]
    }
   ],
   "source": [
    "!pip install pyro-ppl"
   ]
  },
  {
   "cell_type": "code",
   "execution_count": 3,
   "metadata": {
    "colab": {},
    "colab_type": "code",
    "id": "49tVnN8yDQvl"
   },
   "outputs": [],
   "source": [
    "import torch\n",
    "from statistics import mean\n",
    "import numpy as np\n",
    "import pyro\n",
    "import pyro.distributions as dist\n",
    "from pyro.infer import EmpiricalMarginal\n",
    "import matplotlib.pyplot as plt\n",
    "import pandas as pd\n",
    "import json\n",
    "pyro.set_rng_seed(45)"
   ]
  },
  {
   "cell_type": "markdown",
   "metadata": {
    "colab_type": "text",
    "id": "E6euXG3q_pND"
   },
   "source": [
    "# Daggity Model\n",
    "![alt text](https://drive.google.com/uc?id=1-rcNgrrXaocDoljyXUvqyr1TYO9SJ0Eh)"
   ]
  },
  {
   "cell_type": "code",
   "execution_count": null,
   "metadata": {},
   "outputs": [],
   "source": []
  },
  {
   "cell_type": "markdown",
   "metadata": {
    "colab_type": "text",
    "id": "2IHr61kf__2o"
   },
   "source": [
    " ROI Calculation = ![image.png](data:image/png;base64,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)"
   ]
  },
  {
   "cell_type": "markdown",
   "metadata": {
    "colab_type": "text",
    "id": "8QsLv0ud7vKU"
   },
   "source": [
    "# CPT from Bnlearn to Pyro\n",
    "\n",
    "Let us now try the Naive approach to dump all the CPTs into a '.json' file from R and then deserialize it in python to build our model. We implemented a generic function to migrate CPTs from Bnlearn R to Pyro. The input is the Json file 'test.json' created in R using the JSONIO library.\n",
    "\n",
    "\n",
    "```\n",
    "> exportJson <- toJSON(bn_dag)\n",
    "> write(exportJson, \"test.json\")\n",
    "```\n"
   ]
  },
  {
   "cell_type": "code",
   "execution_count": 6,
   "metadata": {
    "colab": {},
    "colab_type": "code",
    "id": "HPeVbgcpBQIc"
   },
   "outputs": [],
   "source": [
    "import json\n",
    "\n",
    "def converToValues(obj):\n",
    "    if isinstance(obj, list):\n",
    "        for index, item in enumerate(obj):\n",
    "            newitem = converToValues(item)\n",
    "            obj[index] = newitem\n",
    "    elif isinstance(obj,dict):\n",
    "        return list(obj.values())\n",
    "\n",
    "    return obj\n",
    "\n",
    "def convertToTransposeElemts(obj):\n",
    "    if isinstance(obj,list):\n",
    "        for index, item in enumerate(obj):\n",
    "            if isinstance(item[0],list):\n",
    "                newArray = convertToTransposeElemts(item)\n",
    "                obj[index] = newArray\n",
    "            else:\n",
    "                temp = [list(x) for x in zip(*obj)]\n",
    "                return temp\n",
    "    return obj\n",
    "\n",
    "\n",
    "with open('test.json') as f:\n",
    "    data_dict = json.load(f)"
   ]
  },
  {
   "cell_type": "markdown",
   "metadata": {
    "colab_type": "text",
    "id": "dteKNoCB_B9W"
   },
   "source": [
    "## Fetching the Probabilities\n",
    "\n",
    "After you have succesfully loaded the file import you features. As we are not aware of the feature names, You need to provide the names of your feature and it will extract the CPTs for you, to be used to build your model. Find the below code, we have used to parse our test.json for your reference"
   ]
  },
  {
   "cell_type": "code",
   "execution_count": 7,
   "metadata": {
    "colab": {},
    "colab_type": "code",
    "id": "mwhvsORFFJ_Q"
   },
   "outputs": [],
   "source": [
    "zipcode_prob = torch.tensor(data_dict['zipcode']['prob'])\n",
    "pets_prob = torch.tensor(data_dict['pets']['prob'])\n",
    "apartment_prob = torch.tensor(data_dict['apartment_age']['prob'])\n",
    "\n",
    "\n",
    "room_type_prob = converToValues(data_dict['room_type']['prob'])\n",
    "room_type_prob = torch.tensor(convertToTransposeElemts(room_type_prob))\n",
    "\n",
    "proximity_score_prob = converToValues(data_dict['proximity_score']['prob'])\n",
    "proximity_score_prob = torch.tensor(convertToTransposeElemts(proximity_score_prob))\n",
    "\n",
    "review_scores_rating_prob = converToValues(data_dict['review_scores_rating']['prob'])\n",
    "review_scores_rating_prob = torch.tensor(convertToTransposeElemts(review_scores_rating_prob))\n",
    "\n",
    "amenities_score_prob = converToValues(data_dict['amenities_score']['prob'])\n",
    "amenities_score_prob = torch.tensor(convertToTransposeElemts(amenities_score_prob))\n",
    "\n",
    "cleaning_fee_prob = converToValues(data_dict['cleaning_fee']['prob'])\n",
    "cleaning_fee_prob = torch.tensor(convertToTransposeElemts(cleaning_fee_prob))\n",
    "\n",
    "bedroom_prob = converToValues(data_dict['bedrooms']['prob'])\n",
    "bedroom_prob = torch.tensor(convertToTransposeElemts(bedroom_prob))\n",
    "\n",
    "bathroom_prob = converToValues(data_dict['bathrooms']['prob'])\n",
    "bathroom_prob = torch.tensor(convertToTransposeElemts(bathroom_prob))\n",
    "\n",
    "price_prob = converToValues(data_dict['price']['prob'])\n",
    "price_prob = torch.tensor(convertToTransposeElemts(price_prob))\n",
    "\n",
    "cost_property_prob = converToValues(data_dict['cost_property']['prob'])\n",
    "cost_property_prob = torch.tensor(convertToTransposeElemts(cost_property_prob))\n",
    "\n",
    "ROI_prob = converToValues(data_dict['ROI']['prob'])\n",
    "ROI_prob = torch.tensor(convertToTransposeElemts(ROI_prob))"
   ]
  },
  {
   "cell_type": "markdown",
   "metadata": {
    "colab_type": "text",
    "id": "HWD9no4N_k2J"
   },
   "source": [
    "# Build Your Model"
   ]
  },
  {
   "cell_type": "code",
   "execution_count": 8,
   "metadata": {
    "colab": {
     "base_uri": "https://localhost:8080/",
     "height": 56
    },
    "colab_type": "code",
    "id": "BmBzPxS1BhYY",
    "outputId": "4c5ca4ad-58b5-4f30-96da-3407bb69f480"
   },
   "outputs": [
    {
     "name": "stdout",
     "output_type": "stream",
     "text": [
      "{'zipcode': tensor(1), 'pets': tensor(0), 'apartment_age': tensor(0), 'room_type': tensor(0), 'proximity_score': tensor(2), 'amenities_score': tensor(1), 'cleaning_fee': tensor(1), 'bedrooms': tensor(2), 'bathrooms': tensor(0), 'review_scores_rating': tensor(1), 'price': tensor(0), 'cost_property': tensor(2), 'ROI': tensor(2)}\n"
     ]
    }
   ],
   "source": [
    "def model():\n",
    " \n",
    " zipcode = pyro.sample(\"zipcode\", dist.Categorical(probs=zipcode_prob))\n",
    " pets = pyro.sample(\"pets\", dist.Categorical(probs=pets_prob))\n",
    " apartment_age = pyro.sample(\"apartment_age\", dist.Categorical(probs=apartment_prob))\n",
    "\n",
    " room_type = pyro.sample(\"room_type\", dist.Categorical(probs=room_type_prob[zipcode]))\n",
    " proximity_score = pyro.sample(\"proximity_score\", dist.Categorical(probs=proximity_score_prob[zipcode]))\n",
    " amenities_score = pyro.sample(\"amenities_score\", dist.Categorical(probs=amenities_score_prob[apartment_age]))\n",
    " cleaning_fee = pyro.sample(\"cleaning_fee\", dist.Categorical(probs=cleaning_fee_prob[pets]))\n",
    " bedrooms = pyro.sample(\"bedrooms\", dist.Categorical(probs=bedroom_prob[room_type]))\n",
    " bathrooms = pyro.sample(\"bathrooms\", dist.Categorical(probs=bathroom_prob[room_type]))\n",
    "\n",
    " review_scores_rating = pyro.sample(\"review_scores_rating\", dist.Categorical(probs=review_scores_rating_prob[amenities_score][zipcode]))\n",
    " price = pyro.sample(\"price\", dist.Categorical(probs=price_prob[zipcode][proximity_score][pets][review_scores_rating][room_type][cleaning_fee]))\n",
    " cost_property = pyro.sample(\"cost_property\", dist.Categorical(probs=cost_property_prob[zipcode][proximity_score][room_type][apartment_age][bedrooms][bathrooms]))\n",
    " ROI = pyro.sample(\"ROI\", dist.Categorical(probs=ROI_prob[price][cost_property]))\n",
    "\n",
    " return{'zipcode' : zipcode, 'pets' : pets, 'apartment_age' : apartment_age, 'room_type' : room_type, \n",
    "        'proximity_score' : proximity_score, 'amenities_score': amenities_score, 'cleaning_fee': cleaning_fee , \n",
    "        'bedrooms': bedrooms, 'bathrooms':bathrooms, 'review_scores_rating':review_scores_rating, \n",
    "        'price':price,'cost_property': cost_property,'ROI':ROI}\n",
    "print(model())"
   ]
  },
  {
   "cell_type": "markdown",
   "metadata": {
    "colab_type": "text",
    "id": "hukNFTGTuHOp"
   },
   "source": [
    "# Interventions"
   ]
  },
  {
   "cell_type": "markdown",
   "metadata": {
    "colab_type": "text",
    "id": "nmQ1A_5juPfA"
   },
   "source": [
    "### Bedrooms on ROI ( ROI | do(bedrooms=2) ) and Bedrooms on ROI ( ROI | do(bedrooms=5) ) \n",
    "We intervened on number of bedrooms to identify the causal effect of number of bedrooms. We want to know the effect having more number of bedrooms i.e 5 and average number of bedrooms i.e 2"
   ]
  },
  {
   "cell_type": "code",
   "execution_count": 9,
   "metadata": {
    "colab": {
     "base_uri": "https://localhost:8080/",
     "height": 314
    },
    "colab_type": "code",
    "id": "IOebwa0gecl0",
    "outputId": "5a12822a-0deb-4562-be38-41ca06afa433"
   },
   "outputs": [
    {
     "data": {
      "text/plain": [
       "Text(0.5, 1.0, 'P(ROI | do(bedrooms =2)) - Importance Sampling')"
      ]
     },
     "execution_count": 9,
     "metadata": {},
     "output_type": "execute_result"
    },
    {
     "data": {
      "image/png": "[encoded data removed]",
      "text/plain": [
       "<Figure size 432x288 with 1 Axes>"
      ]
     },
     "metadata": {
      "needs_background": "light"
     },
     "output_type": "display_data"
    }
   ],
   "source": [
    "condition = pyro.do(model,data ={'bedrooms':torch.tensor(1)})\n",
    "posterior = pyro.infer.Importance(condition, num_samples = 5000).run()\n",
    "marginal = EmpiricalMarginal(posterior,\"ROI\")\n",
    "samples = [marginal().item() for _ in range(1000)]\n",
    "unique, counts = np.unique(samples,return_counts =True)\n",
    "plt.bar(unique,counts/1000,align = 'center',alpha = 0.5 )\n",
    "plt.ylabel('proportion')\n",
    "plt.xlabel('ROI')\n",
    "plt.title('P(ROI | do(bedrooms =2)) - Importance Sampling')"
   ]
  },
  {
   "cell_type": "code",
   "execution_count": 11,
   "metadata": {
    "colab": {
     "base_uri": "https://localhost:8080/",
     "height": 314
    },
    "colab_type": "code",
    "id": "z1iFmGAjb-Kb",
    "outputId": "eede0524-1c05-4ce0-cb34-761c63fb6d48"
   },
   "outputs": [
    {
     "data": {
      "text/plain": [
       "Text(0.5, 1.0, 'P(ROI | do(bedrooms =5)) - Importance Sampling')"
      ]
     },
     "execution_count": 11,
     "metadata": {},
     "output_type": "execute_result"
    },
    {
     "data": {
      "image/png": "[encoded data removed]",
      "text/plain": [
       "<Figure size 432x288 with 1 Axes>"
      ]
     },
     "metadata": {
      "needs_background": "light"
     },
     "output_type": "display_data"
    }
   ],
   "source": [
    "condition = pyro.do(model,data ={'bedrooms':torch.tensor(4)})\n",
    "posterior = pyro.infer.Importance(condition, num_samples = 5000).run()\n",
    "marginal = EmpiricalMarginal(posterior,\"ROI\")\n",
    "samples = [marginal().item() for _ in range(1000)]\n",
    "unique, counts = np.unique(samples,return_counts =True)\n",
    "plt.bar(unique,counts/1000,align = 'center',alpha = 0.5 )\n",
    "plt.ylabel('proportion')\n",
    "plt.xlabel('ROI')\n",
    "plt.title('P(ROI | do(bedrooms =5)) - Importance Sampling')"
   ]
  },
  {
   "cell_type": "markdown",
   "metadata": {
    "colab_type": "text",
    "id": "Mx7YmE4s05Hi"
   },
   "source": [
    "To verify this result we checked the zestimate graph on Zillow for two of our Data in Zilker Area, Austin, TX, 78704. We observe that the both the properties 2 Bed and 5 Bed were purchased in same price of $$450K but its value today is More than $1M for a % Bed Apartment and much less than a million for a 2 Bed Apartment\n",
    "\n",
    "\n",
    "\n"
   ]
  },
  {
   "cell_type": "markdown",
   "metadata": {
    "colab_type": "text",
    "id": "lu2bg6jc56AW"
   },
   "source": [
    "2 Bedroom House\n",
    "![alt text](https://drive.google.com/uc?id=1iFRcqduuYJVVOEgK_aEbmfeegcMb0o7m)"
   ]
  },
  {
   "cell_type": "markdown",
   "metadata": {
    "colab_type": "text",
    "id": "lYH5Av-15WNF"
   },
   "source": [
    "5 Bedroom House\n",
    "![alt text](https://drive.google.com/uc?id=15UA4Nsos9zw7YJ4r6h_1GJrB4Q6mV0z4)"
   ]
  },
  {
   "cell_type": "markdown",
   "metadata": {
    "colab_type": "text",
    "id": "jdjIt25BB7qx"
   },
   "source": [
    "### Room Type on ROI ( ROI | do(Room Type = 'Entire Home/apt') )  and ( ROI | do(Room Type = 'Private Room') )\n",
    "\n",
    "We intervened on Type of Room put up on Airbnb Listing to identify its causal effect on ROI. It is better to rent an Entire Apartment than to rent only a Room"
   ]
  },
  {
   "cell_type": "code",
   "execution_count": 12,
   "metadata": {
    "colab": {
     "base_uri": "https://localhost:8080/",
     "height": 314
    },
    "colab_type": "code",
    "id": "LzcxxqdxfMZb",
    "outputId": "4b6c52b3-bccf-4c28-eac1-abd07045e90c"
   },
   "outputs": [
    {
     "data": {
      "text/plain": [
       "Text(0.5, 1.0, 'P(ROI | do(room_type =Entire home/apt)) - Importance Sampling')"
      ]
     },
     "execution_count": 12,
     "metadata": {},
     "output_type": "execute_result"
    },
    {
     "data": {
      "image/png": "[encoded data removed]",
      "text/plain": [
       "<Figure size 432x288 with 1 Axes>"
      ]
     },
     "metadata": {
      "needs_background": "light"
     },
     "output_type": "display_data"
    }
   ],
   "source": [
    "condition = pyro.do(model,data ={'room_type':torch.tensor(0)})\n",
    "posterior = pyro.infer.Importance(condition, num_samples = 5000).run()\n",
    "marginal = EmpiricalMarginal(posterior,\"ROI\")\n",
    "samples = [marginal().item() for _ in range(1000)]\n",
    "unique, counts = np.unique(samples,return_counts =True)\n",
    "plt.bar(unique,counts/1000,align = 'center',alpha = 0.5 )\n",
    "# plt.xticks(unique,A_alias)\n",
    "plt.ylabel('proportion')\n",
    "plt.xlabel('ROI')\n",
    "plt.title('P(ROI | do(room_type =Entire home/apt)) - Importance Sampling')"
   ]
  },
  {
   "cell_type": "code",
   "execution_count": 13,
   "metadata": {
    "colab": {
     "base_uri": "https://localhost:8080/",
     "height": 314
    },
    "colab_type": "code",
    "id": "Z7GTP7yo6GkK",
    "outputId": "43490b2a-e8ef-4067-ab40-af387bae821a"
   },
   "outputs": [
    {
     "data": {
      "text/plain": [
       "Text(0.5, 1.0, 'P(ROI | do(room_type =Private room)) - Importance Sampling')"
      ]
     },
     "execution_count": 13,
     "metadata": {},
     "output_type": "execute_result"
    },
    {
     "data": {
      "image/png": "[encoded data removed]",
      "text/plain": [
       "<Figure size 432x288 with 1 Axes>"
      ]
     },
     "metadata": {
      "needs_background": "light"
     },
     "output_type": "display_data"
    }
   ],
   "source": [
    "condition = pyro.do(model,data ={'room_type':torch.tensor(1)})\n",
    "posterior = pyro.infer.Importance(condition, num_samples = 5000).run()\n",
    "marginal = EmpiricalMarginal(posterior,\"ROI\")\n",
    "samples = [marginal().item() for _ in range(1000)]\n",
    "unique, counts = np.unique(samples,return_counts =True)\n",
    "plt.bar(unique,counts/1000,align = 'center',alpha = 0.5 )\n",
    "# plt.xticks(unique,A_alias)\n",
    "plt.ylabel('proportion')\n",
    "plt.xlabel('ROI')\n",
    "plt.title('P(ROI | do(room_type =Private room)) - Importance Sampling')"
   ]
  },
  {
   "cell_type": "markdown",
   "metadata": {
    "colab_type": "text",
    "id": "fGB7c5XJwlAQ"
   },
   "source": [
    "To verify this result we checked the Airbnb Listing for two of our Data Points. We observe that the A private room costs only \\$25 whereas entire apartment would cost $60 per day. Which is more than doble the cost of renting a private room."
   ]
  },
  {
   "cell_type": "markdown",
   "metadata": {
    "colab_type": "text",
    "id": "66_Xd10qA6c4"
   },
   "source": [
    "# Back Door Criteria  \n",
    "\n",
    "To observe the causal Effect of Amenities Score on ROI we conditioned on the Apartment Age(Parent Adjustment Set). We can find the minimal adjusment set for blocking backdoor path with adjustment set function from dagitty package(It is shown in the R markdown tutorial). We get {apartment age} as one of the adjustment set. Also apartment_age satifies the parent adjustment criteria, therefore conditioning on apartment age will block all the backdoor paths. And then we can find the average causal effect of amenities on ROI."
   ]
  },
  {
   "cell_type": "markdown",
   "metadata": {
    "colab_type": "text",
    "id": "EBpgji-E7t58"
   },
   "source": [
    "![alt text](https://drive.google.com/uc?id=140dMexMoLP9tTlWqQBxu3r4Itk6gbz_7)"
   ]
  },
  {
   "cell_type": "code",
   "execution_count": null,
   "metadata": {
    "colab": {},
    "colab_type": "code",
    "id": "DC-dQZ737S_J"
   },
   "outputs": [],
   "source": [
    "condition_X0_Z0 = pyro.condition(model,data ={'amenities_score':torch.tensor(0),'apartment_age':torch.tensor(0)})\n",
    "condition_X0_Z0_samples = [\n",
    "    1 if condition_X0_Z0()['ROI'] == 2.0 else 0\n",
    "    for _ in range(50000)\n",
    "]\n",
    "\n",
    "P_X0_Z0 = mean(condition_X0_Z0_samples) * float(apartment_prob[0])\n",
    "\n",
    "condition_X0_Z1 = pyro.condition(model,data ={'amenities_score':torch.tensor(0),'apartment_age':torch.tensor(1)})\n",
    "condition_X0_Z1_samples = [\n",
    "    1 if condition_X0_Z1()['ROI'] == 2.0 else 0\n",
    "    for _ in range(50000)\n",
    "]\n",
    "\n",
    "P_X0_Z1 = mean(condition_X0_Z1_samples) * float(apartment_prob[1])\n",
    "\n",
    "condition_X0_Z2 = pyro.condition(model,data ={'amenities_score':torch.tensor(0),'apartment_age':torch.tensor(2)})\n",
    "condition_X0_Z2_samples = [\n",
    "    1 if condition_X0_Z2()['ROI'] == 2.0 else 0\n",
    "    for _ in range(50000)\n",
    "]\n",
    "\n",
    "P_X0_Z2 = mean(condition_X0_Z2_samples) * float(apartment_prob[2])\n",
    "\n",
    "\n",
    "condition_X1_Z0 = pyro.condition(model,data ={'amenities_score':torch.tensor(2),'apartment_age':torch.tensor(0)})\n",
    "condition_X1_Z0_samples = [\n",
    "    1 if condition_X1_Z0()['ROI'] == 2.0 else 0\n",
    "    for _ in range(50000)\n",
    "]\n",
    "\n",
    "\n",
    "P_X1_Z0 = mean(condition_X1_Z0_samples) * float(apartment_prob[0])\n",
    "\n",
    "condition_X1_Z1 = pyro.condition(model,data ={'amenities_score':torch.tensor(2),'apartment_age':torch.tensor(1)})\n",
    "condition_X1_Z1_samples = [\n",
    "    1 if condition_X1_Z1()['ROI'] == 2.0 else 0\n",
    "    for _ in range(50000)\n",
    "]\n",
    "\n",
    "P_X1_Z1 = mean(condition_X1_Z1_samples) * float(apartment_prob[1])\n",
    "\n",
    "condition_X1_Z2 = pyro.condition(model,data ={'amenities_score':torch.tensor(2),'apartment_age':torch.tensor(2)})\n",
    "condition_X1_Z2_samples = [\n",
    "    1 if condition_X1_Z2()['ROI'] == 2.0 else 0\n",
    "    for _ in range(50000)\n",
    "]\n",
    "\n",
    "P_X1_Z2 = mean(condition_X1_Z2_samples) * float(apartment_prob[2])\n",
    "\n",
    "\n"
   ]
  },
  {
   "cell_type": "code",
   "execution_count": null,
   "metadata": {
    "colab": {
     "base_uri": "https://localhost:8080/",
     "height": 36
    },
    "colab_type": "code",
    "id": "e44V4WfAAPWu",
    "outputId": "78fc59d4-0268-463b-d43c-960802c4f3a1"
   },
   "outputs": [],
   "source": [
    "causal_effect = (P_X1_Z0  + P_X1_Z1 +  P_X1_Z2) - (P_X0_Z0  + P_X0_Z1+  P_X0_Z2)  \n",
    "causal_effect"
   ]
  },
  {
   "cell_type": "markdown",
   "metadata": {
    "colab_type": "text",
    "id": "Ivzr4dVAXyuT"
   },
   "source": [
    "# P( ROI | do(amenities_score) )\n",
    "We tried to find causal effect using do operation (Similar to what we did with mutilated function from bnlearn package in R markdown file)"
   ]
  },
  {
   "cell_type": "code",
   "execution_count": 0,
   "metadata": {
    "colab": {},
    "colab_type": "code",
    "id": "hCJWW_a4CGkx"
   },
   "outputs": [],
   "source": [
    "Y1doX0 = pyro.do(model, data={'amenities_score':torch.tensor(0)})\n",
    "Y1doX0_samples = [\n",
    "    1 if Y1doX0()['ROI'] == 2.0 else 0\n",
    "    for _ in range(50000)\n",
    "]\n",
    "\n",
    "Y1doX1 = pyro.do(model, data={'amenities_score':torch.tensor(2)})\n",
    "Y1doX1_samples = [\n",
    "    1 if Y1doX1()['ROI'] == 2.0 else 0\n",
    "    for _ in range(50000)\n",
    "]\n",
    "var = mean(Y1doX1_samples) - mean(Y1doX0_samples)\n"
   ]
  },
  {
   "cell_type": "code",
   "execution_count": 53,
   "metadata": {
    "colab": {
     "base_uri": "https://localhost:8080/",
     "height": 36
    },
    "colab_type": "code",
    "id": "RpvQsMI5tV5c",
    "outputId": "4f11289b-0892-4272-f71b-7ec612700eb5"
   },
   "outputs": [
    {
     "data": {
      "text/plain": [
       "-0.005679999999999963"
      ]
     },
     "execution_count": 53,
     "metadata": {
      "tags": []
     },
     "output_type": "execute_result"
    }
   ],
   "source": [
    "var"
   ]
  },
  {
   "cell_type": "markdown",
   "metadata": {
    "colab_type": "text",
    "id": "STThF_zXl7by"
   },
   "source": [
    "Causal effect is negative , therefore having an apartment with more amenities will give high ROI."
   ]
  },
  {
   "cell_type": "markdown",
   "metadata": {
    "colab_type": "text",
    "id": "DATaZUUMN2Yw"
   },
   "source": [
    "# Effect of Treatment on Treated\n",
    "\n",
    "Had I bought a Big property in an expensive Neighbourhood. How would this effect my ROI?"
   ]
  },
  {
   "cell_type": "markdown",
   "metadata": {
    "colab_type": "text",
    "id": "aEmXYASlYCdl"
   },
   "source": [
    "Below code shows our approach for doing counterfactuals. We are still working on the code as to make this work we need to modify our model to build a Structural Causal Model. \n",
    "\n",
    "\n",
    ">**STAY TUNED!!!!!!!!!!**\n",
    "\n"
   ]
  },
  {
   "cell_type": "code",
   "execution_count": 0,
   "metadata": {
    "colab": {},
    "colab_type": "code",
    "id": "vbpNmDtalBY2"
   },
   "outputs": [],
   "source": [
    "import pandas as pd\n",
    "df = pd.read_csv('/content/test.csv')\n",
    "df.columns\n",
    "\n",
    "df['zipcode'].replace('[78701,78703]', 1,inplace = True)\n",
    "df['zipcode'].replace('(78704,78759]', 0,inplace = True)\n",
    "df['bedrooms'].replace('5',1,inplace = True)\n",
    "df['bedrooms'].replace('1',0,inplace = True)\n",
    "\n",
    "df['price'].replace('[30,85]',1,inplace = True)\n",
    "df['price'].replace('(85,149]',2,inplace = True)\n",
    "df['price'].replace('(149,2.15e+03]',3,inplace = True)\n",
    "\n",
    "df.head()"
   ]
  },
  {
   "cell_type": "code",
   "execution_count": 0,
   "metadata": {
    "colab": {},
    "colab_type": "code",
    "id": "weZYp1V_N1c-"
   },
   "outputs": [],
   "source": [
    "df_Z0_X1 = df.loc[(df['bedrooms'] == 0) & (df['zipcode'] == 1)].reset_index(drop=True)\n",
    "df_X1 = df.loc[df['zipcode'] == 1].reset_index(drop = True)\n",
    "\n",
    "P_z0_x1 = len(df_Z0_X1) / len(df_X1)\n",
    "P_z0_x1\n",
    "\n",
    "df_Z1_X1 = df.loc[(df['bedrooms'] == 1) & (df['zipcode'] == 1)].reset_index(drop=True)\n",
    "P_Z1_X1 = len(df_Z1_X1) / len(df_X1)\n",
    "P_Z1_X1\n",
    "\n",
    "df_X0_Z0 = df.loc[(df['bedrooms'] == 0) & (df['zipcode'] == 0)].reset_index(drop=True)\n",
    "y_x0_z0_mean = df_X0_Z0['price'].mean()\n",
    "Y_X0_Z0 = y_x0_z0_mean * P_z0_x1\n",
    "Y_X0_Z0\n",
    "\n",
    "df_X0_Z1 = df.loc[(df['bedrooms'] == 1) & (df['zipcode'] == 0)].reset_index(drop=True)\n",
    "y_x0_z1_mean = df_X0_Z1['price'].mean()\n",
    "Y_X0_Z1 = y_x0_z1_mean * P_Z1_X1\n",
    "Y_X0_Z1\n",
    "\n",
    "causal_effect = Y_X0_Z0 + Y_X0_Z1\n",
    "causal_effect\n"
   ]
  },
  {
   "cell_type": "code",
   "execution_count": 0,
   "metadata": {
    "colab": {},
    "colab_type": "code",
    "id": "a6oglf4omiqC"
   },
   "outputs": [],
   "source": [
    "df_X1 = df.loc[(df['bedrooms'] == 1)].reset_index(drop=True)\n",
    "y_x1 = df_X1['price'].mean()\n",
    "y_x1\n",
    "\n",
    "ETT = y_x1 - causal_effect\n",
    "ETT"
   ]
  },
  {
   "cell_type": "code",
   "execution_count": 0,
   "metadata": {
    "colab": {},
    "colab_type": "code",
    "id": "Pv6xsr5jmkrX"
   },
   "outputs": [],
   "source": [
    "df_X0 = df.loc[(df['zipcode'] == 0)].reset_index(drop=True)\n",
    "y_x0 = df_X0['price'].mean()\n",
    "\n",
    "y_x1 - y_x0"
   ]
  }
 ],
 "metadata": {
  "colab": {
   "collapsed_sections": [],
   "name": "Airbnb_Texas_Pyro.ipynb",
   "provenance": []
  },
  "kernelspec": {
   "display_name": "Python 3",
   "language": "python",
   "name": "python3"
  },
  "language_info": {
   "codemirror_mode": {
    "name": "ipython",
    "version": 3
   },
   "file_extension": ".py",
   "mimetype": "text/x-python",
   "name": "python",
   "nbconvert_exporter": "python",
   "pygments_lexer": "ipython3",
   "version": "3.7.6"
  }
 },
 "nbformat": 4,
 "nbformat_minor": 1
}
